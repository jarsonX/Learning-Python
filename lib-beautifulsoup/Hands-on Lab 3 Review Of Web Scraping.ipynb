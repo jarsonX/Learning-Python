{
 "cells": [
  {
   "cell_type": "markdown",
   "metadata": {},
   "source": [
    "<p style=\"text-align:center\">\n",
    "    <a href=\"https://skills.network/?utm_medium=Exinfluencer&utm_source=Exinfluencer&utm_content=000026UJ&utm_term=10006555&utm_id=NA-SkillsNetwork-Channel-SkillsNetworkCoursesIBMDA0321ENSkillsNetwork21426264-2022-01-01\" target=\"_blank\">\n",
    "    <img src=\"https://cf-courses-data.s3.us.cloud-object-storage.appdomain.cloud/assets/logos/SN_web_lightmode.png\" width=\"200\" alt=\"Skills Network Logo\"  />\n",
    "    </a>\n",
    "</p>\n"
   ]
  },
  {
   "cell_type": "markdown",
   "metadata": {},
   "source": [
    "# **Web Scraping Lab**\n"
   ]
  },
  {
   "cell_type": "markdown",
   "metadata": {},
   "source": [
    "Estimated time needed: **30** minutes\n"
   ]
  },
  {
   "cell_type": "markdown",
   "metadata": {},
   "source": [
    "## Objectives\n"
   ]
  },
  {
   "cell_type": "markdown",
   "metadata": {},
   "source": [
    "After completing this lab you will be able to:\n"
   ]
  },
  {
   "cell_type": "markdown",
   "metadata": {},
   "source": [
    "*   Download a webpage using requests module\n",
    "*   Scrape all links from a web page\n",
    "*   Scrape all image urls from a web page\n",
    "*   Scrape data from html tables\n"
   ]
  },
  {
   "cell_type": "markdown",
   "metadata": {},
   "source": [
    "## Scrape [www.ibm.com](http://www.ibm.com/?utm_medium=Exinfluencer&utm_source=Exinfluencer&utm_content=000026UJ&utm_term=10006555&utm_id=NA-SkillsNetwork-Channel-SkillsNetworkCoursesIBMDA0321ENSkillsNetwork21426264-2022-01-01)\n"
   ]
  },
  {
   "cell_type": "markdown",
   "metadata": {},
   "source": [
    "Import the required modules and functions\n"
   ]
  },
  {
   "cell_type": "code",
   "execution_count": 1,
   "metadata": {},
   "outputs": [],
   "source": [
    "from bs4 import BeautifulSoup # this module helps in web scrapping.\n",
    "import requests  # this module helps us to download a web page"
   ]
  },
  {
   "cell_type": "markdown",
   "metadata": {},
   "source": [
    "Download the contents of the web page\n"
   ]
  },
  {
   "cell_type": "code",
   "execution_count": 2,
   "metadata": {},
   "outputs": [],
   "source": [
    "url = \"http://www.ibm.com\""
   ]
  },
  {
   "cell_type": "code",
   "execution_count": 3,
   "metadata": {},
   "outputs": [],
   "source": [
    "# get the contents of the webpage in text format and store in a variable called data\n",
    "data  = requests.get(url).text "
   ]
  },
  {
   "cell_type": "markdown",
   "metadata": {},
   "source": [
    "Create a soup object using the class BeautifulSoup\n"
   ]
  },
  {
   "cell_type": "code",
   "execution_count": 4,
   "metadata": {},
   "outputs": [],
   "source": [
    "soup = BeautifulSoup(data,\"html5lib\")  # create a soup object using the variable 'data'"
   ]
  },
  {
   "cell_type": "markdown",
   "metadata": {},
   "source": [
    "Scrape all links\n"
   ]
  },
  {
   "cell_type": "code",
   "execution_count": 5,
   "metadata": {},
   "outputs": [
    {
     "name": "stdout",
     "output_type": "stream",
     "text": [
      "https://www.ibm.com/de/de\n",
      "https://www.ibm.com/lets-create/de-de?lnk=hpmlc\n",
      "\n",
      "https://www.ibm.com/de-de/products?lnk=hpmps_bupr_dede&lnk2=link\n",
      "https://www.ibm.com/de-de/industries?lnk=hpmps_buin_dede&lnk2=link\n",
      "https://www.ibm.com/de-de/watson?lnk=hpmps_buai_dede&lnk2=link\n",
      "https://www.ibm.com/de-de/about/automation?lnk=hpmps_buau_dede&lnk2=link\n",
      "https://www.ibm.com/de-de/blockchain?lnk=hpmps_bubc_dede&lnk2=link\n",
      "https://www.ibm.com/de-de/business-operations?lnk=hpmps_buop_dede&lnk2=link\n",
      "https://www.ibm.com/de-de/cloud?lnk=hpmps_bucl_dede&lnk2=link\n",
      "https://www.ibm.com/de-de/analytics?lnk=hpmps_buda_dede&lnk2=link\n",
      "https://www.ibm.com/de-de/it-infrastructure?lnk=hpmps_buit_dede&lnk2=link\n",
      "https://www.ibm.com/de-de/security?lnk=hpmps_buse_dede&lnk2=link\n",
      "https://www.ibm.com/de-de/supply-chain?lnk=hpmps_busc_dede&lnk2=link\n",
      "https://www.ibm.com/de-de/financing?lnk=hpmps_bufi_dede&lnk2=link\n",
      "https://www.ibm.com/de-de/products?lnk=hpmps_buall_dede&lnk2=link\n",
      "\n",
      "https://www.ibm.com/consulting/de-de/?lnk=hpmsc_buco_dede&lnk2=learn\n",
      "https://www.ibm.com/de-de/services/business?lnk=hpmsc_bups_dede&lnk2=link\n",
      "https://www.ibm.com/de-de/services?lnk=hpmsc_budbs_dede&lnk2=link\n",
      "https://www.ibm.com/de-de/cloud/services?lnk=hpmsc_buhs_dede\n",
      "https://www.ibm.com/de-de/services/talent-management?lnk=hpmsc_buta_dede&lnk2=link\n",
      "https://www.ibm.com/de-de/services/applications?lnk=hpmsc_buas_dede&lnk2=link\n",
      "https://www.ibm.com/de-de/garage?lnk=hpmsc_buas_dede&lnk2=link\n",
      "https://www.ibm.com/de-de/security/services?lnk=hpmsc_buse_dede&lnk2=link\n",
      "https://www.ibm.com/de-de/services/technology-support?lnk=hpmsc_busv_dede&lnk2=link\n",
      "https://www.ibm.com/de-de/financing?lnk=hpmsc_bufi_dede&lnk2=link\n",
      "https://www.ibm.com/de-de/services?lnk=hpmsc_buall_dede&lnk2=link\n",
      "\n",
      "https://www.ibm.com/support/de/de/?lnk=hpmls_busu_dede&lnk2=link\n",
      "https://www.ibm.com/support/knowledgecenter/?lnk=hpmls_budc_dede&lnk2=link\n",
      "https://developer.ibm.com/?lnk=hpmls_bude_dede&lnk2=link\n",
      "https://www.ibm.com/training/?lnk=hpmls_butr_dede&lnk2=link\n",
      "https://www.ibm.com/blogs/?lnk=hpmls_bure_dede&lnk2=link\n",
      "https://www.ibm.com/de-de/cloud/learn?lnk=hpmls_buwi_dede&lnk2=link\n",
      "\n",
      "https://www.ibm.com/de-de/partnerworld/public?lnk=hpmex_bupa_dede&lnk2=link\n",
      "https://www.research.ibm.com/?lnk=hpmex_bure_dede&lnk2=link\n",
      "https://www.ibm.com/de-de/about?lnk=hpmex_buab_dede&lnk2=link\n",
      "https://www.ibm.com/de-de/impact/covid-19?lnk=hpmex_buco_dede&lnk2=link\n",
      "https://www.ibm.com/sitemap/de/de\n",
      "https://www.ibm.com/de-de/it-infrastructure/power?lnk=dehpv18l1\n",
      "https://de.newsroom.ibm.com/2022-07-27-Cost-of-a-Data-Breach-Studie-2022?lnk=dehpv18nf1\n",
      "https://www.ibm.com/de-de/events/turn-vision-into-action?lnk=dehpv18f1\n",
      "https://www.ibm.com/de-de/consulting/resources/design-data-led-experience-transformation?lnk=dehpv18f2\n",
      "https://www.ibm.com/lets-create/new-creators/de-de?lnk=dehpv18f3\n",
      "https://www.ibm.com/consulting/de-de?lnk=dehpv18f4\n",
      "https://www.ibm.com/de-de/cloud/campaign/cloud-simplicity?lnk=dehpv18f5\n",
      "https://www.ibm.com/de-de/cloud/aiops?lnk=dehpv18f6\n",
      "/de-de/products/offers-and-discounts?lnk=STW_DE_HPT_TL&psrc=NONE&pexp=DEF&lnk2=goto_MPDISC\n",
      "https://www.ibm.com/de-de/cloud/cloud-pak-for-automation?lnk=STW_DE_HP_D1_TL&psrc=NONE&pexp=DEF&lnk2=trial_PHP\n",
      "https://www.ibm.com/de-de/verify/verify-identity?lnk=STW_DE_HP_D2_TL&psrc=NONE&pexp=DEF&lnk2=trial_PHP\n",
      "https://www.ibm.com/de-de/products/watson-assistant?lnk=STW_DE_HP_D3_TL&psrc=NONE&pexp=DEF&lnk2=trial_PHP\n",
      "https://www.ibm.com/de-de/products/unified-endpoint-management?lnk=STW_DE_HPT_T4_BLK&lnk2=trial_MaaS360Wat&psrc=none&pexp=def\n",
      "https://www.ibm.com/de-de/products/cognos-analytics?lnk=STW_DE_HPT_T5_BLK&lnk2=trial_%20CogAnalytics%20&psrc=none&pexp=def\n",
      "https://www.ibm.com/de-de/cloud/vmware/shared?lnk=STW_DE_HPT_T6_BLK&lnk2=trial_VMware&psrc=none&pexp=def\n",
      "https://developer.ibm.com/depmodels/cloud/?lnk=hpv18ct16\n",
      "https://developer.ibm.com/technologies/artificial-intelligence?lnk=hpv18ct19\n",
      "https://developer.ibm.com/?lnk=hpv18ct9\n",
      "https://www.ibm.com/docs/en?lnk=hpv18ct14\n",
      "https://www.redbooks.ibm.com/?lnk=ushpv18ct10\n",
      "https://www.ibm.com/support/home/?lnk=hpv18ct11\n",
      "https://www.ibm.com/training/?lnk=hpv18ct15\n",
      "/de-de/cloud/hybrid?lnk=hpv18pt14\n",
      "/cloud/learn/public-cloud?lnk=hpv18ct1\n",
      "/de-de/watson?lnk=ushpv18pt17\n",
      "/de-de/garage?lnk=hpv18pt13\n",
      "/de-de/blockchain?lnk=hpv18pt4\n",
      "https://www.ibm.com/thought-leadership/institute-business-value/?lnk=hpv18pt12\n",
      "/de-de/analytics?lnk=hpv18pt1\n",
      "/de-de/security?lnk=hpv18pt9\n",
      "/de-de/financing?lnk=hpv18pt3\n",
      "https://www.ibm.com/de-de/quantum-computing?lnk=hpv18pt16\n",
      "/de-de/cloud/hybrid?lnk=hpv18ct20\n",
      "/cloud/learn/public-cloud?lnk=hpv18ct1\n",
      "/de-de/cloud/redhat?lnk=hpv18ct13\n",
      "/de-de/watson?lnk=hpv18ct3\n",
      "https://www.ibm.com/de-de/quantum-computing?lnk=hpv18ct18\n",
      "/cloud/learn/kubernetes?lnk=hpv18ct8\n",
      "/de-de/products/spss-statistics?lnk=ushpv18ct7\n",
      "/de-de/blockchain?lnk=hpv18ct1\n",
      "https://www.ibm.com/de-de/employment?lnk=hpv18ct2\n",
      "https://www.ibm.com/case-studies/university-of-mainz-medical-center/de-de/?lnk=hpv18cs1\n",
      "/case-studies/search?lnk=hpv18cs2\n",
      "https://www.ibm.com/de-de/products/?lnk=fdi\n",
      "https://www.ibm.com/de-en/products/trials?lnk=STW_DE_HPF_THP_FT_TL&lnk2=goto_THP\n",
      "https://www.ibm.com/de-de/products/?lnk=hmmpr\n",
      "https://www.ibm.com/de-de/services?lnk=fdi-dede\n",
      "https://www.ibm.com/de-de/industries\n",
      "https://www.ibm.com/ibm/clientreference/us/en/?lnk=fdi-dede\n",
      "https://www.ibm.com/de-de/events?lnk=fdi-dede\n",
      "https://www.ibm.com/blogs/think/de-de/?lnk=fdi-dede\n",
      "https://www.ibm.com/de-de/financing\n",
      "https://developer.ibm.com/?lnk=fif-dede\n",
      "https://www.ibm.com/de-de/partnerworld/public\n",
      "https://www.ibm.com/partners/start/?lnk=fif-dede\n",
      "https://www.ibm.com/consulting/de-de/\n",
      "https://www.ibm.com/mysupport/s/?language=en_US\n",
      "https://www.ibm.com/partnerworld/public\n",
      "https://myibm.ibm.com/dashboard/?lnk=mmi_dede\n",
      "https://www.ibm.com/ibm/clientcenter/walldorf?lnk=fab-dede\n",
      "https://www.ibm.com/de-de/employment/?lnk=fab-dede\n",
      "https://de.newsroom.ibm.com/\n",
      "https://www.ibm.com/investor/?lnk=fab-dede\n",
      "https://www.ibm.com/de-de/about?lnk=fab-dede\n",
      "https://www.ibm.com/ibm/clientcenter/boeblingen/\n",
      "https://www.ibm.com/business-operations/resources/munich-center\n",
      "https://www.ibm.com/de-de/about?lnk=flg-cont-dede\n",
      "https://www.ibm.com/de-de/privacy?lnk=flg-priv-dede\n",
      "https://www.ibm.com/de-de/legal?lnk=flg-tous-dede\n",
      "https://www.ibm.com/able/?lnk=flg-able-dede\n",
      "https://www.ibm.com/de-de/about?lnk=flg\n",
      "#\n"
     ]
    }
   ],
   "source": [
    "for link in soup.find_all('a'):  # in html anchor/link is represented by the tag <a>\n",
    "    print(link.get('href'))"
   ]
  },
  {
   "cell_type": "markdown",
   "metadata": {},
   "source": [
    "Scrape  all images\n"
   ]
  },
  {
   "cell_type": "code",
   "execution_count": 6,
   "metadata": {},
   "outputs": [
    {
     "name": "stdout",
     "output_type": "stream",
     "text": [
      "//1.cms.s81c.com/sites/default/files/2022-07/4E-Power10-1000x1000_9.jpg\n",
      "//1.cms.s81c.com/sites/default/files/2022-08-10/IBM_Turn_Vision_into_Action_2022-Webpage-444x254px.jpeg\n",
      "//1.cms.s81c.com/sites/default/files/2022-08-16/20220815-consulting-design-data-led-experience-transformation-26852-444x33-444x254.jpg\n",
      "//1.cms.s81c.com/sites/default/files/2022-07-29/Berlin-Group-1B-Card%20Kopie.jpg\n",
      "//1.cms.s81c.com/sites/default/files/2022-05-31/Consulting.jpg\n",
      "//1.cms.s81c.com/sites/default/files/2022-06-14/Modernize_0.jpg\n",
      "//1.cms.s81c.com/sites/default/files/2022-07-29/conveyorrobottopview_2.jpg\n",
      "//1.cms.s81c.com/sites/default/files/2022-07-29/Cloud-Pak-for-Automation-trial-XS-444x256.png\n",
      "//1.cms.s81c.com/sites/default/files/2022-07-29/Security-Verify-Trial-800x450_s_444x256.jpg\n",
      "//1.cms.s81c.com/sites/default/files/2022-07-29/20220216-t-ibm-watson-assistant_s_444x256.png\n",
      "//1.cms.s81c.com/sites/default/files/2021-12-02/10072019-t-bt-MaaS360-watson-23210-700x420.png\n",
      "//1.cms.s81c.com/sites/default/files/2022-02-10/Cognos-Analytics-20626-700x420.png\n",
      "//1.cms.s81c.com/sites/default/files/2021-12-02/IBM-Cloud-23059-700x420.png\n"
     ]
    }
   ],
   "source": [
    "for link in soup.find_all('img'):# in html image is represented by the tag <img>\n",
    "    print(link.get('src'))"
   ]
  },
  {
   "cell_type": "markdown",
   "metadata": {},
   "source": [
    "## Scrape data from html tables\n"
   ]
  },
  {
   "cell_type": "code",
   "execution_count": 7,
   "metadata": {},
   "outputs": [],
   "source": [
    "#The below url contains a html table with data about colors and color codes."
   ]
  },
  {
   "cell_type": "code",
   "execution_count": 8,
   "metadata": {},
   "outputs": [],
   "source": [
    "url = \"https://cf-courses-data.s3.us.cloud-object-storage.appdomain.cloud/IBM-DA0321EN-SkillsNetwork/labs/datasets/HTMLColorCodes.html\""
   ]
  },
  {
   "cell_type": "markdown",
   "metadata": {},
   "source": [
    "Before proceeding to scrape a web site, you need to examine the contents, and the way data is organized on the website. Open the above url in your browser and check how many rows and columns are there in the color table.\n"
   ]
  },
  {
   "cell_type": "code",
   "execution_count": 9,
   "metadata": {},
   "outputs": [],
   "source": [
    "# get the contents of the webpage in text format and store in a variable called data\n",
    "data  = requests.get(url).text"
   ]
  },
  {
   "cell_type": "code",
   "execution_count": 10,
   "metadata": {},
   "outputs": [],
   "source": [
    "soup = BeautifulSoup(data,\"html5lib\")"
   ]
  },
  {
   "cell_type": "code",
   "execution_count": 14,
   "metadata": {},
   "outputs": [
    {
     "data": {
      "text/plain": [
       "<table border=\"1\" class=\"main-table\">\n",
       "   <tbody><tr>\n",
       "      <td>Number </td>\n",
       "      <td>Color</td>\n",
       "      <td>Color Name</td>\n",
       "      <td>Hex Code<br/>#RRGGBB</td>\n",
       "      <td>Decimal Code<br/>(R,G,B)</td>\n",
       "   </tr>\n",
       "   <tr>\n",
       "      <td>1</td>\n",
       "      <td style=\"background:lightsalmon;\"> </td>\n",
       "      <td>lightsalmon</td>\n",
       "      <td>#FFA07A</td>\n",
       "      <td>rgb(255,160,122)</td>\n",
       "   </tr>\n",
       "   <tr>\n",
       "      <td>2</td>\n",
       "      <td style=\"background:salmon;\"> </td>\n",
       "      <td>salmon</td>\n",
       "      <td>#FA8072</td>\n",
       "      <td>rgb(250,128,114)</td>\n",
       "   </tr>\n",
       "   <tr>\n",
       "      <td>3</td>\n",
       "      <td style=\"background:darksalmon;\"> </td>\n",
       "      <td>darksalmon</td>\n",
       "      <td>#E9967A</td>\n",
       "      <td>rgb(233,150,122)</td>\n",
       "   </tr>\n",
       "   <tr>\n",
       "      <td>4</td>\n",
       "      <td style=\"background:lightcoral;\"> </td>\n",
       "      <td>lightcoral</td>\n",
       "      <td>#F08080</td>\n",
       "      <td>rgb(240,128,128)</td>\n",
       "   </tr>\n",
       "   <tr>\n",
       "      <td>5</td>\n",
       "      <td style=\"background:coral;\"> </td>\n",
       "      <td>coral</td>\n",
       "      <td>#FF7F50</td>\n",
       "      <td>rgb(255,127,80)</td>\n",
       "   </tr>\n",
       "   <tr>\n",
       "      <td>6</td>\n",
       "      <td style=\"background:tomato;\"> </td>\n",
       "      <td>tomato</td>\n",
       "      <td>#FF6347</td>\n",
       "      <td>rgb(255,99,71)</td>\n",
       "   </tr>\n",
       "   <tr>\n",
       "      <td>7</td>\n",
       "      <td style=\"background:orangered;\"> </td>\n",
       "      <td>orangered</td>\n",
       "      <td>#FF4500</td>\n",
       "      <td>rgb(255,69,0)</td>\n",
       "   </tr>\n",
       "   <tr>\n",
       "      <td>8</td>\n",
       "      <td style=\"background:gold;\"> </td>\n",
       "      <td>gold</td>\n",
       "      <td>#FFD700</td>\n",
       "      <td>rgb(255,215,0)</td>\n",
       "   </tr>\n",
       "   <tr>\n",
       "      <td>9</td>\n",
       "      <td style=\"background:orange;\"> </td>\n",
       "      <td>orange</td>\n",
       "      <td>#FFA500</td>\n",
       "      <td>rgb(255,165,0)</td>\n",
       "   </tr>\n",
       "   <tr>\n",
       "      <td>10</td>\n",
       "      <td style=\"background:darkorange;\"> </td>\n",
       "      <td>darkorange</td>\n",
       "      <td>#FF8C00</td>\n",
       "      <td>rgb(255,140,0)</td>\n",
       "   </tr>\n",
       "   <tr>\n",
       "      <td>11</td>\n",
       "      <td style=\"background:lightyellow;\"> </td>\n",
       "      <td>lightyellow</td>\n",
       "      <td>#FFFFE0</td>\n",
       "      <td>rgb(255,255,224)</td>\n",
       "   </tr>\n",
       "   <tr>\n",
       "      <td>12</td>\n",
       "      <td style=\"background:lemonchiffon;\"> </td>\n",
       "      <td>lemonchiffon</td>\n",
       "      <td>#FFFACD</td>\n",
       "      <td>rgb(255,250,205)</td>\n",
       "   </tr>\n",
       "   <tr>\n",
       "      <td>13</td>\n",
       "      <td style=\"background:papayawhip;\"> </td>\n",
       "      <td>papayawhip</td>\n",
       "      <td>#FFEFD5</td>\n",
       "      <td>rgb(255,239,213)</td>\n",
       "   </tr>\n",
       "   <tr>\n",
       "      <td>14</td>\n",
       "      <td style=\"background:moccasin;\"> </td>\n",
       "      <td>moccasin</td>\n",
       "      <td>#FFE4B5</td>\n",
       "      <td>rgb(255,228,181)</td>\n",
       "   </tr>\n",
       "   <tr>\n",
       "      <td>15</td>\n",
       "      <td style=\"background:peachpuff;\"> </td>\n",
       "      <td>peachpuff</td>\n",
       "      <td>#FFDAB9</td>\n",
       "      <td>rgb(255,218,185)</td>\n",
       "   </tr>\n",
       "   <tr>\n",
       "      <td>16</td>\n",
       "      <td style=\"background:palegoldenrod;\"> </td>\n",
       "      <td>palegoldenrod</td>\n",
       "      <td>#EEE8AA</td>\n",
       "      <td>rgb(238,232,170)</td>\n",
       "   </tr>\n",
       "   <tr>\n",
       "      <td>17</td>\n",
       "      <td style=\"background:khaki;\"> </td>\n",
       "      <td>khaki</td>\n",
       "      <td>#F0E68C</td>\n",
       "      <td>rgb(240,230,140)</td>\n",
       "   </tr>\n",
       "   <tr>\n",
       "      <td>18</td>\n",
       "      <td style=\"background:darkkhaki;\"> </td>\n",
       "      <td>darkkhaki</td>\n",
       "      <td>#BDB76B</td>\n",
       "      <td>rgb(189,183,107)</td>\n",
       "   </tr>\n",
       "   <tr>\n",
       "      <td>19</td>\n",
       "      <td style=\"background:yellow;\"> </td>\n",
       "      <td>yellow</td>\n",
       "      <td>#FFFF00</td>\n",
       "      <td>rgb(255,255,0)</td>\n",
       "   </tr>\n",
       "   <tr>\n",
       "      <td>20</td>\n",
       "      <td style=\"background:lawngreen;\"> </td>\n",
       "      <td>lawngreen</td>\n",
       "      <td>#7CFC00</td>\n",
       "      <td>rgb(124,252,0)</td>\n",
       "   </tr>\n",
       "   <tr>\n",
       "      <td>21</td>\n",
       "      <td style=\"background:chartreuse;\"> </td>\n",
       "      <td>chartreuse</td>\n",
       "      <td>#7FFF00</td>\n",
       "      <td>rgb(127,255,0)</td>\n",
       "   </tr>\n",
       "   <tr>\n",
       "      <td>22</td>\n",
       "      <td style=\"background:limegreen;\"> </td>\n",
       "      <td>limegreen</td>\n",
       "      <td>#32CD32</td>\n",
       "      <td>rgb(50,205,50)</td>\n",
       "   </tr>\n",
       "   <tr>\n",
       "      <td>23</td>\n",
       "      <td style=\"background:lime;\"> </td>\n",
       "      <td>lime</td>\n",
       "      <td>#00FF00</td>\n",
       "      <td>rgb(0.255.0)</td>\n",
       "   </tr>\n",
       "   <tr>\n",
       "      <td>24</td>\n",
       "      <td style=\"background:forestgreen;\"> </td>\n",
       "      <td>forestgreen</td>\n",
       "      <td>#228B22</td>\n",
       "      <td>rgb(34,139,34)</td>\n",
       "   </tr>\n",
       "   <tr>\n",
       "      <td>25</td>\n",
       "      <td style=\"background:green;\"> </td>\n",
       "      <td>green</td>\n",
       "      <td>#008000</td>\n",
       "      <td>rgb(0,128,0)</td>\n",
       "   </tr>\n",
       "   <tr>\n",
       "      <td>26</td>\n",
       "      <td style=\"background:powderblue;\"> </td>\n",
       "      <td>powderblue</td>\n",
       "      <td>#B0E0E6</td>\n",
       "      <td>rgb(176,224,230)</td>\n",
       "   </tr>\n",
       "   <tr>\n",
       "      <td>27</td>\n",
       "      <td style=\"background:lightblue;\"> </td>\n",
       "      <td>lightblue</td>\n",
       "      <td>#ADD8E6</td>\n",
       "      <td>rgb(173,216,230)</td>\n",
       "   </tr>\n",
       "   <tr>\n",
       "      <td>28</td>\n",
       "      <td style=\"background:lightskyblue;\"> </td>\n",
       "      <td>lightskyblue</td>\n",
       "      <td>#87CEFA</td>\n",
       "      <td>rgb(135,206,250)</td>\n",
       "   </tr>\n",
       "   <tr>\n",
       "      <td>29</td>\n",
       "      <td style=\"background:skyblue;\"> </td>\n",
       "      <td>skyblue</td>\n",
       "      <td>#87CEEB</td>\n",
       "      <td>rgb(135,206,235)</td>\n",
       "   </tr>\n",
       "   <tr>\n",
       "      <td>30</td>\n",
       "      <td style=\"background:deepskyblue;\"> </td>\n",
       "      <td>deepskyblue</td>\n",
       "      <td>#00BFFF</td>\n",
       "      <td>rgb(0,191,255)</td>\n",
       "   </tr>\n",
       "   <tr>\n",
       "      <td>31</td>\n",
       "      <td style=\"background:lightsteelblue;\"> </td>\n",
       "      <td>lightsteelblue</td>\n",
       "      <td>#B0C4DE</td>\n",
       "      <td>rgb(176,196,222)</td>\n",
       "   </tr>\n",
       "   <tr>\n",
       "      <td>32</td>\n",
       "      <td style=\"background:dodgerblue;\"> </td>\n",
       "      <td>dodgerblue</td>\n",
       "      <td>#1E90FF</td>\n",
       "      <td>rgb(30,144,255)</td>\n",
       "   </tr>\n",
       "</tbody></table>"
      ]
     },
     "execution_count": 14,
     "metadata": {},
     "output_type": "execute_result"
    }
   ],
   "source": [
    "#find a html table in the web page\n",
    "table = soup.find('table') # in html table is represented by the tag <table>\n",
    "table"
   ]
  },
  {
   "cell_type": "code",
   "execution_count": 15,
   "metadata": {},
   "outputs": [
    {
     "name": "stdout",
     "output_type": "stream",
     "text": [
      "Color Name--->Hex Code#RRGGBB\n",
      "lightsalmon--->#FFA07A\n",
      "salmon--->#FA8072\n",
      "darksalmon--->#E9967A\n",
      "lightcoral--->#F08080\n",
      "coral--->#FF7F50\n",
      "tomato--->#FF6347\n",
      "orangered--->#FF4500\n",
      "gold--->#FFD700\n",
      "orange--->#FFA500\n",
      "darkorange--->#FF8C00\n",
      "lightyellow--->#FFFFE0\n",
      "lemonchiffon--->#FFFACD\n",
      "papayawhip--->#FFEFD5\n",
      "moccasin--->#FFE4B5\n",
      "peachpuff--->#FFDAB9\n",
      "palegoldenrod--->#EEE8AA\n",
      "khaki--->#F0E68C\n",
      "darkkhaki--->#BDB76B\n",
      "yellow--->#FFFF00\n",
      "lawngreen--->#7CFC00\n",
      "chartreuse--->#7FFF00\n",
      "limegreen--->#32CD32\n",
      "lime--->#00FF00\n",
      "forestgreen--->#228B22\n",
      "green--->#008000\n",
      "powderblue--->#B0E0E6\n",
      "lightblue--->#ADD8E6\n",
      "lightskyblue--->#87CEFA\n",
      "skyblue--->#87CEEB\n",
      "deepskyblue--->#00BFFF\n",
      "lightsteelblue--->#B0C4DE\n",
      "dodgerblue--->#1E90FF\n"
     ]
    }
   ],
   "source": [
    "#Get all rows from the table\n",
    "for row in table.find_all('tr'): # in html table row is represented by the tag <tr>\n",
    "    # Get all columns in each row.\n",
    "    cols = row.find_all('td') # in html a column is represented by the tag <td>\n",
    "    color_name = cols[2].getText() # store the value in column 3 as color_name\n",
    "    color_code = cols[3].getText() # store the value in column 4 as color_code\n",
    "    print(\"{}--->{}\".format(color_name,color_code))"
   ]
  },
  {
   "cell_type": "markdown",
   "metadata": {},
   "source": [
    "## Authors\n"
   ]
  },
  {
   "cell_type": "markdown",
   "metadata": {},
   "source": [
    "Ramesh Sannareddy\n"
   ]
  },
  {
   "cell_type": "markdown",
   "metadata": {},
   "source": [
    "### Other Contributors\n"
   ]
  },
  {
   "cell_type": "markdown",
   "metadata": {},
   "source": [
    "Rav Ahuja\n"
   ]
  },
  {
   "cell_type": "markdown",
   "metadata": {},
   "source": [
    "## Change Log\n"
   ]
  },
  {
   "cell_type": "markdown",
   "metadata": {},
   "source": [
    "| Date (YYYY-MM-DD) | Version | Changed By        | Change Description                 |\n",
    "| ----------------- | ------- | ----------------- | ---------------------------------- |\n",
    "| 2020-10-17        | 0.1     | Ramesh Sannareddy | Created initial version of the lab |\n"
   ]
  },
  {
   "cell_type": "markdown",
   "metadata": {},
   "source": [
    "Copyright © 2020 IBM Corporation. This notebook and its source code are released under the terms of the [MIT License](https://cognitiveclass.ai/mit-license/?utm_medium=Exinfluencer&utm_source=Exinfluencer&utm_content=000026UJ&utm_term=10006555&utm_id=NA-SkillsNetwork-Channel-SkillsNetworkCoursesIBMDA0321ENSkillsNetwork21426264-2022-01-01).\n"
   ]
  }
 ],
 "metadata": {
  "kernelspec": {
   "display_name": "Python 3.9",
   "language": "python",
   "name": "python3"
  },
  "language_info": {
   "codemirror_mode": {
    "name": "ipython",
    "version": 3
   },
   "file_extension": ".py",
   "mimetype": "text/x-python",
   "name": "python",
   "nbconvert_exporter": "python",
   "pygments_lexer": "ipython3",
   "version": "3.9.12"
  }
 },
 "nbformat": 4,
 "nbformat_minor": 4
}
